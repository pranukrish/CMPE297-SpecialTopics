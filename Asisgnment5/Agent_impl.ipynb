{
  "nbformat": 4,
  "nbformat_minor": 0,
  "metadata": {
    "colab": {
      "provenance": [],
      "authorship_tag": "ABX9TyP5L21wWp1ifZwdBsWivD0y",
      "include_colab_link": true
    },
    "kernelspec": {
      "name": "python3",
      "display_name": "Python 3"
    },
    "language_info": {
      "name": "python"
    }
  },
  "cells": [
    {
      "cell_type": "markdown",
      "metadata": {
        "id": "view-in-github",
        "colab_type": "text"
      },
      "source": [
        "<a href=\"https://colab.research.google.com/github/pranukrish/CMPE297-SpecialTopics/blob/main/Asisgnment5/Agent_impl.ipynb\" target=\"_parent\"><img src=\"https://colab.research.google.com/assets/colab-badge.svg\" alt=\"Open In Colab\"/></a>"
      ]
    },
    {
      "cell_type": "markdown",
      "source": [
        "a) Simple Agents assignment\n",
        "\n",
        "Build a very simple python agent and demonstrate multiple backend tools (use chatgpt to write the backends to various tools) - provide more tools than the hint as well as an outer loop."
      ],
      "metadata": {
        "id": "VeDTrMxRlcRu"
      }
    },
    {
      "cell_type": "code",
      "execution_count": 1,
      "metadata": {
        "colab": {
          "base_uri": "https://localhost:8080/"
        },
        "id": "3hznzBcpkz4Z",
        "outputId": "508dd7b7-2f5e-468d-dbdf-f52e3206c0d5"
      },
      "outputs": [
        {
          "output_type": "stream",
          "name": "stdout",
          "text": [
            "\n",
            "1. Get Current Time\n",
            "2. Generate Random Number\n",
            "3. Fetch a Joke\n",
            "4. Exit\n",
            "Choose an option: 3\n",
            "Joke: I started a new business making yachts in my attic this year... - The sails are going through the roof.\n",
            "\n",
            "1. Get Current Time\n",
            "2. Generate Random Number\n",
            "3. Fetch a Joke\n",
            "4. Exit\n",
            "Choose an option: 2\n",
            "Random Number: 75\n",
            "\n",
            "1. Get Current Time\n",
            "2. Generate Random Number\n",
            "3. Fetch a Joke\n",
            "4. Exit\n",
            "Choose an option: 1\n",
            "Current Time: 2023-11-27 20:59:02.395294\n",
            "\n",
            "1. Get Current Time\n",
            "2. Generate Random Number\n",
            "3. Fetch a Joke\n",
            "4. Exit\n",
            "Choose an option: 3\n",
            "Joke: What do you call an old snowman? - Water.\n",
            "\n",
            "1. Get Current Time\n",
            "2. Generate Random Number\n",
            "3. Fetch a Joke\n",
            "4. Exit\n",
            "Choose an option: 4\n",
            "Exiting...\n"
          ]
        }
      ],
      "source": [
        "import requests\n",
        "import random\n",
        "from datetime import datetime\n",
        "\n",
        "class SimpleAgent:\n",
        "    def get_current_time(self):\n",
        "        return datetime.now()\n",
        "\n",
        "    def generate_random_number(self):\n",
        "        return random.randint(1, 100)\n",
        "\n",
        "    def fetch_joke(self):\n",
        "        response = requests.get(\"https://official-joke-api.appspot.com/random_joke\")\n",
        "        if response.status_code == 200:\n",
        "            data = response.json()\n",
        "            return f\"{data['setup']} - {data['punchline']}\"\n",
        "        else:\n",
        "            return \"Failed to fetch joke.\"\n",
        "\n",
        "agent = SimpleAgent()\n",
        "\n",
        "# Outer loop for continuous interaction\n",
        "while True:\n",
        "    print(\"\\n1. Get Current Time\\n2. Generate Random Number\\n3. Fetch a Joke\\n4. Exit\")\n",
        "    choice = input(\"Choose an option: \")\n",
        "\n",
        "    if choice == '1':\n",
        "        print(\"Current Time:\", agent.get_current_time())\n",
        "    elif choice == '2':\n",
        "        print(\"Random Number:\", agent.generate_random_number())\n",
        "    elif choice == '3':\n",
        "        print(\"Joke:\", agent.fetch_joke())\n",
        "    elif choice == '4':\n",
        "        print(\"Exiting...\")\n",
        "        break\n",
        "    else:\n",
        "        print(\"Invalid choice. Please try again.\")\n"
      ]
    }
  ]
}